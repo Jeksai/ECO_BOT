{
 "cells": [
  {
   "cell_type": "code",
   "execution_count": 30,
   "metadata": {
    "executionInfo": {
     "elapsed": 2355,
     "status": "ok",
     "timestamp": 1738321145814,
     "user": {
      "displayName": "Денис Селецкий",
      "userId": "14370759247516864274"
     },
     "user_tz": -420
    },
    "id": "hFsqAhJYAJVt"
   },
   "outputs": [],
   "source": [
    "import pandas as pd\n",
    "import numpy as np\n",
    "\n",
    "data = pd.read_csv(\"data/data.csv\", sep=\";\", dtype={'Period': str})\n",
    "\n",
    "cp_data = data.copy()"
   ]
  },
  {
   "cell_type": "code",
   "execution_count": 31,
   "metadata": {
    "executionInfo": {
     "elapsed": 255,
     "status": "ok",
     "timestamp": 1738321149512,
     "user": {
      "displayName": "Денис Селецкий",
      "userId": "14370759247516864274"
     },
     "user_tz": -420
    },
    "id": "c-4ATuM6AJVv"
   },
   "outputs": [],
   "source": [
    "cp_data = cp_data.drop(['ID', 'global_id', 'StationName', 'AdmArea', 'SurveillanceZoneCharacteristics', 'Location', 'MonthlyAveragePDKss'], axis=1)"
   ]
  },
  {
   "cell_type": "code",
   "execution_count": 32,
   "metadata": {
    "executionInfo": {
     "elapsed": 214,
     "status": "ok",
     "timestamp": 1738321153408,
     "user": {
      "displayName": "Денис Селецкий",
      "userId": "14370759247516864274"
     },
     "user_tz": -420
    },
    "id": "ok9cuk2HAJVw"
   },
   "outputs": [],
   "source": [
    "cp_data = cp_data[cp_data['Parameter'].isin(['Диоксид азота'])]\n",
    "\n",
    "cp_data = cp_data.reset_index()\n",
    "\n",
    "del cp_data['index']\n"
   ]
  },
  {
   "cell_type": "code",
   "execution_count": 33,
   "metadata": {
    "executionInfo": {
     "elapsed": 212,
     "status": "ok",
     "timestamp": 1738321155087,
     "user": {
      "displayName": "Денис Селецкий",
      "userId": "14370759247516864274"
     },
     "user_tz": -420
    },
    "id": "eVoXQNkPAJVw"
   },
   "outputs": [],
   "source": [
    "cp_data['PDKnorm'] = np.nan"
   ]
  },
  {
   "cell_type": "code",
   "execution_count": 34,
   "metadata": {
    "executionInfo": {
     "elapsed": 239,
     "status": "ok",
     "timestamp": 1738321156389,
     "user": {
      "displayName": "Денис Селецкий",
      "userId": "14370759247516864274"
     },
     "user_tz": -420
    },
    "id": "umpIIJxbAJVx"
   },
   "outputs": [],
   "source": [
    "cp_data['PDKnorm'] = cp_data['PDKnorm'].mask(cp_data['Parameter'] == 'Диоксид азота', 0.04)"
   ]
  },
  {
   "cell_type": "code",
   "execution_count": 35,
   "metadata": {},
   "outputs": [],
   "source": [
    "cp_data['Period'] = pd.to_datetime(cp_data['Period'], format='%m.%Y')"
   ]
  },
  {
   "cell_type": "code",
   "execution_count": 36,
   "metadata": {
    "executionInfo": {
     "elapsed": 227,
     "status": "ok",
     "timestamp": 1738321157678,
     "user": {
      "displayName": "Денис Селецкий",
      "userId": "14370759247516864274"
     },
     "user_tz": -420
    },
    "id": "0ymfeFS8AJVx"
   },
   "outputs": [],
   "source": [
    "cp_data.to_csv('new_data.csv')"
   ]
  },
  {
   "cell_type": "code",
   "execution_count": 37,
   "metadata": {
    "colab": {
     "base_uri": "https://localhost:8080/",
     "height": 424
    },
    "executionInfo": {
     "elapsed": 224,
     "status": "ok",
     "timestamp": 1738321217227,
     "user": {
      "displayName": "Денис Селецкий",
      "userId": "14370759247516864274"
     },
     "user_tz": -420
    },
    "id": "XzssM7jmAJVx",
    "outputId": "674bb8f3-492c-4d26-ccc6-b95c7753d942"
   },
   "outputs": [
    {
     "name": "stdout",
     "output_type": "stream",
     "text": [
      "<class 'pandas.core.frame.DataFrame'>\n",
      "RangeIndex: 4143 entries, 0 to 4142\n",
      "Data columns (total 5 columns):\n",
      " #   Column          Non-Null Count  Dtype         \n",
      "---  ------          --------------  -----         \n",
      " 0   Period          4143 non-null   datetime64[ns]\n",
      " 1   District        4143 non-null   object        \n",
      " 2   Parameter       4143 non-null   object        \n",
      " 3   MonthlyAverage  4143 non-null   float64       \n",
      " 4   PDKnorm         4143 non-null   float64       \n",
      "dtypes: datetime64[ns](1), float64(2), object(2)\n",
      "memory usage: 162.0+ KB\n"
     ]
    }
   ],
   "source": [
    "cp_data.info()\n"
   ]
  }
 ],
 "metadata": {
  "colab": {
   "provenance": []
  },
  "kernelspec": {
   "display_name": "venv",
   "language": "python",
   "name": "python3"
  },
  "language_info": {
   "codemirror_mode": {
    "name": "ipython",
    "version": 3
   },
   "file_extension": ".py",
   "mimetype": "text/x-python",
   "name": "python",
   "nbconvert_exporter": "python",
   "pygments_lexer": "ipython3",
   "version": "3.12.5"
  }
 },
 "nbformat": 4,
 "nbformat_minor": 0
}
